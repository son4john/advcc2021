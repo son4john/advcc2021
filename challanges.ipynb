{
 "cells": [
  {
   "cell_type": "markdown",
   "metadata": {},
   "source": [
    "**Advent Challange Code**"
   ]
  },
  {
   "cell_type": "code",
   "execution_count": 1,
   "metadata": {},
   "outputs": [
    {
     "name": "stdout",
     "output_type": "stream",
     "text": [
      "127\n",
      "2000\n",
      "8593\n"
     ]
    }
   ],
   "source": [
    "f = open(\"input.txt\", \"r\")\n",
    "data = f.read()\n",
    "items = data.split(\"\\n\")\n",
    "print(items[0])\n",
    "items = items[:-1]\n",
    "print(len(items))\n",
    "print(items[1999])\n",
    "count = 0"
   ]
  },
  {
   "cell_type": "markdown",
   "metadata": {},
   "source": [
    "**Challange 1** Is next measure larger than previous"
   ]
  },
  {
   "cell_type": "code",
   "execution_count": 2,
   "metadata": {},
   "outputs": [
    {
     "name": "stdout",
     "output_type": "stream",
     "text": [
      "1602\n"
     ]
    }
   ],
   "source": [
    "for x in range(len(items)-2):\n",
    "    if float(items[x]) < float(items[x+1]):\n",
    "        count += 1\n",
    "\n",
    "print(count)"
   ]
  },
  {
   "cell_type": "markdown",
   "metadata": {},
   "source": [
    "**Challange 2** Sum of 3 window"
   ]
  },
  {
   "cell_type": "code",
   "execution_count": 3,
   "metadata": {},
   "outputs": [
    {
     "name": "stdout",
     "output_type": "stream",
     "text": [
      "2\n",
      "666\n",
      "1633\n"
     ]
    }
   ],
   "source": [
    "count = 0\n",
    "remainder = len(items) % 3\n",
    "print(remainder)\n",
    "windowRange = len(items) // 3\n",
    "print(windowRange)\n",
    "for x in range(len(items) - 2 - 1):\n",
    "    if float(items[x]) + float(items[x+1]) + float(items[x+2]) < float(items[x+1]) + float(items[x+2]) + float(items[x+3]):\n",
    "        count += 1\n",
    "print(count)"
   ]
  },
  {
   "cell_type": "markdown",
   "metadata": {},
   "source": [
    "**Challange 3** Movement of submarine"
   ]
  },
  {
   "cell_type": "code",
   "execution_count": 4,
   "metadata": {},
   "outputs": [
    {
     "name": "stdout",
     "output_type": "stream",
     "text": [
      "1000\n",
      "f\n",
      "9\n",
      "2199.0\n",
      "802965.0\n",
      "786.0\n",
      "1765720035.0\n"
     ]
    }
   ],
   "source": [
    "f2 = open(\"input2.txt\", \"r\")\n",
    "data2 = f2.read()\n",
    "items2 = data2.split(\"\\n\")\n",
    "items2 = items2[:-1]\n",
    "print(len(items2))\n",
    "print(items2[0][0])\n",
    "value2 = items2[0].split(\" \")[-1]\n",
    "print(value2)\n",
    "\n",
    "horz = 0\n",
    "vert = 0\n",
    "aim = 0\n",
    "for item in items2:\n",
    "    if item[0] == \"f\":\n",
    "        horz += float(item.split(\" \")[-1])\n",
    "        vert += (aim*float(item.split(\" \")[-1]))\n",
    "    if item[0] == \"d\":\n",
    "        aim += float(item.split(\" \")[-1])\n",
    "    if item[0] == \"u\":\n",
    "        aim -= float(item.split(\" \")[-1])\n",
    "\n",
    "print(horz)\n",
    "print(vert)\n",
    "print(aim)\n",
    "print(str(horz*vert))\n"
   ]
  },
  {
   "cell_type": "markdown",
   "metadata": {},
   "source": [
    "**Challange Day 3**"
   ]
  },
  {
   "cell_type": "code",
   "execution_count": 5,
   "metadata": {},
   "outputs": [
    {
     "name": "stdout",
     "output_type": "stream",
     "text": [
      "[1, 1, 0, 0, 0, 0, 1, 1, 1, 1, 1, 1]\n",
      "[0, 0, 1, 1, 1, 1, 0, 0, 0, 0, 0, 0]\n"
     ]
    }
   ],
   "source": [
    "f = open(\"input3.txt\", \"r\")\n",
    "data = f.read()\n",
    "item = data.split(\"\\n\")\n",
    "item = item[:-1]\n",
    "half = len(item)/2\n",
    "gamma  = [0,0,0,0,0,0,0,0,0,0,0,0] # Max\n",
    "epsilon = [0,0,0,0,0,0,0,0,0,0,0,0] #min\n",
    "count = [0,0,0,0,0,0,0,0,0,0,0,0]\n",
    "index = 0\n",
    "\n",
    "for itm in item:\n",
    "    index = 0\n",
    "    for digit in itm:\n",
    "        if digit == \"0\":\n",
    "            count[index] += 1\n",
    "        index += 1\n",
    "\n",
    "index = 0\n",
    "for value in count:\n",
    "    if value < half:\n",
    "        gamma[index] = 1\n",
    "    else:\n",
    "        epsilon[index] = 1\n",
    "    index += 1\n",
    "\n",
    "print(gamma)\n",
    "print(epsilon)       "
   ]
  },
  {
   "cell_type": "markdown",
   "metadata": {},
   "source": [
    "**Day 3 Part 2**"
   ]
  },
  {
   "cell_type": "code",
   "execution_count": 6,
   "metadata": {},
   "outputs": [
    {
     "name": "stdout",
     "output_type": "stream",
     "text": [
      "['110000111011']\n",
      "['001111001001', '001111001101']\n",
      "[1, 1, 0, 0, 0, 0, 1, 1, 1, 1, 1, 1]\n",
      "[479, 494, 503, 512, 524, 514, 486, 494, 499, 463, 486, 493]\n"
     ]
    }
   ],
   "source": [
    "f = open(\"input3.txt\", \"r\")\n",
    "data = f.read()\n",
    "item = data.split(\"\\n\")\n",
    "item = item[:-1]\n",
    "itemCopy = item\n",
    "half = len(item)/2\n",
    "oxgGen = 0 # Max\n",
    "co2Scrb = 0 # Mix\n",
    "\n",
    "#This only works for the first time need update max value everytime\n",
    "count = [0,0,0,0,0,0,0,0,0,0,0,0]\n",
    "maxValue = []\n",
    "location = []\n",
    "temp = []\n",
    "digitIDX = 0\n",
    "index = 0\n",
    "\n",
    "for itm in item:\n",
    "    index = 0\n",
    "    for digit in itm:\n",
    "        if digit == \"0\":\n",
    "            count[index] += 1\n",
    "        index += 1\n",
    "\n",
    "index = 0\n",
    "for value in count:\n",
    "    if value < half:\n",
    "        maxValue.append(1)\n",
    "    else:\n",
    "        maxValue.append(0)\n",
    "\n",
    "\n",
    "found = False\n",
    "while found == False:\n",
    "    for idx, itm in enumerate(itemCopy):\n",
    "        if itm[digitIDX] == str(maxValue[digitIDX]):\n",
    "            location.append(idx)\n",
    "\n",
    "    digitIDX += 1\n",
    "    for loc in location:\n",
    "        temp.append(itemCopy[loc])\n",
    "    itemCopy = temp\n",
    "    temp = []\n",
    "    if len(location) == 1:\n",
    "        found = True\n",
    "    location = []\n",
    "    \n",
    "    \n",
    "print(itemCopy)\n",
    "\n",
    "itemCopy = item\n",
    "found = False\n",
    "digitIDX = 0\n",
    "\n",
    "\n",
    "found = False\n",
    "while found == False:\n",
    "    for idx2, itm2 in enumerate(itemCopy):\n",
    "        if itm2[digitIDX] != str(maxValue[digitIDX]):\n",
    "            location.append(idx2)\n",
    "        \n",
    "    digitIDX += 1\n",
    "    for loc in location:\n",
    "        temp.append(itemCopy[loc])\n",
    "    itemCopy = temp\n",
    "    temp = []\n",
    "    if len(location) == 1 or len(location) == 2:\n",
    "        found = True\n",
    "    location = []\n",
    "\n",
    "print(itemCopy)\n",
    "print(maxValue)\n",
    "print(count)"
   ]
  },
  {
   "cell_type": "code",
   "execution_count": 7,
   "metadata": {},
   "outputs": [
    {
     "name": "stdout",
     "output_type": "stream",
     "text": [
      "['111101100011']\n",
      "['011011100010']\n",
      "1\n",
      "0\n"
     ]
    }
   ],
   "source": [
    "f = open(\"input3.txt\", \"r\")\n",
    "data = f.read()\n",
    "item = data.split(\"\\n\")\n",
    "item = item[:-1]\n",
    "itemCopy = item\n",
    "half = len(item)/2\n",
    "oxgGen = 0 # Max\n",
    "co2Scrb = 0 # Mix\n",
    "\n",
    "maxValue = 0\n",
    "location = []\n",
    "temp = []\n",
    "digitIDX = 0\n",
    "index = 0\n",
    "count = 0\n",
    "\n",
    "\n",
    "found = False\n",
    "while found == False:\n",
    "    for itm in itemCopy:\n",
    "        if itm[digitIDX] == \"0\":\n",
    "            count += 1\n",
    "\n",
    "    if len(itemCopy)/2 < count:\n",
    "        maxValue = 0\n",
    "    else :\n",
    "        maxValue = 1\n",
    "\n",
    "    count = 0\n",
    "\n",
    "    for idx, itm in enumerate(itemCopy):\n",
    "        if itm[digitIDX] == str(maxValue):\n",
    "            location.append(idx)\n",
    "\n",
    "    digitIDX += 1\n",
    "    for loc in location:\n",
    "        temp.append(itemCopy[loc])\n",
    "    itemCopy = temp\n",
    "    \n",
    "    temp = []\n",
    "    if len(location) == 1:\n",
    "        found = True\n",
    "    location = []\n",
    "    \n",
    "\n",
    "    \n",
    "print(itemCopy)\n",
    "\n",
    "itemCopy = item\n",
    "found = False\n",
    "digitIDX = 0\n",
    "\n",
    "\n",
    "found = False\n",
    "while found == False:\n",
    "    for itm in itemCopy:\n",
    "        if itm[digitIDX] == \"0\":\n",
    "            count += 1\n",
    "\n",
    "    if len(itemCopy)/2 < count:\n",
    "        maxValue = 0\n",
    "    else :\n",
    "        maxValue = 1\n",
    "\n",
    "    count = 0\n",
    "\n",
    "    for idx2, itm2 in enumerate(itemCopy):\n",
    "        if itm2[digitIDX] != str(maxValue):\n",
    "            location.append(idx2)\n",
    "        \n",
    "    digitIDX += 1\n",
    "    for loc in location:\n",
    "        temp.append(itemCopy[loc])\n",
    "    itemCopy = temp\n",
    "    temp = []\n",
    "    if len(location) == 1:\n",
    "        found = True\n",
    "    location = []\n",
    "\n",
    "print(itemCopy)\n",
    "print(maxValue)\n",
    "print(count)"
   ]
  }
 ],
 "metadata": {
  "interpreter": {
   "hash": "10c3026f1289dbf037752cc9747463848e628156eb49370db5f4abd2b713cd63"
  },
  "kernelspec": {
   "display_name": "Python 3.9.5 64-bit",
   "language": "python",
   "name": "python3"
  },
  "language_info": {
   "codemirror_mode": {
    "name": "ipython",
    "version": 3
   },
   "file_extension": ".py",
   "mimetype": "text/x-python",
   "name": "python",
   "nbconvert_exporter": "python",
   "pygments_lexer": "ipython3",
   "version": "3.9.5"
  },
  "orig_nbformat": 4
 },
 "nbformat": 4,
 "nbformat_minor": 2
}
